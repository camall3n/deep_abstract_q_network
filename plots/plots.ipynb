{
 "cells": [
  {
   "cell_type": "code",
   "execution_count": 1,
   "metadata": {
    "collapsed": true
   },
   "outputs": [
    {
     "ename": "NameError",
     "evalue": "name 'read_chess_data' is not defined",
     "traceback": [
      "\u001b[0;31m\u001b[0m",
      "\u001b[0;31mNameError\u001b[0mTraceback (most recent call last)",
      "\u001b[0;32m<ipython-input-1-843ed1ab38ae>\u001b[0m in \u001b[0;36m<module>\u001b[0;34m()\u001b[0m\n\u001b[1;32m     22\u001b[0m \u001b[0;31m# for this plot publicly available. This function reads in and parses the\u001b[0m\u001b[0;34m\u001b[0m\u001b[0;34m\u001b[0m\u001b[0m\n\u001b[1;32m     23\u001b[0m \u001b[0;31m# chess data set into a tabulated pandas DataFrame.\u001b[0m\u001b[0;34m\u001b[0m\u001b[0;34m\u001b[0m\u001b[0m\n\u001b[0;32m---> 24\u001b[0;31m \u001b[0mchess_data\u001b[0m \u001b[0;34m=\u001b[0m \u001b[0mread_chess_data\u001b[0m\u001b[0;34m(\u001b[0m\u001b[0;34m)\u001b[0m\u001b[0;34m\u001b[0m\u001b[0m\n\u001b[0m\u001b[1;32m     25\u001b[0m \u001b[0;34m\u001b[0m\u001b[0m\n\u001b[1;32m     26\u001b[0m \u001b[0;31m# These variables are where we put the years (x-axis), means (y-axis), and error bar values.\u001b[0m\u001b[0;34m\u001b[0m\u001b[0;34m\u001b[0m\u001b[0m\n",
      "\u001b[0;31mNameError\u001b[0m: name 'read_chess_data' is not defined"
     ],
     "output_type": "error"
    }
   ],
   "source": [
    "import pandas as pd  \n",
    "import matplotlib.pyplot as plt  \n",
    "from scipy.stats import sem  \n",
    "  \n",
    "# This function takes an array of numbers and smoothes them out.  \n",
    "# Smoothing is useful for making plots a little easier to read.  \n",
    "def sliding_mean(data_array, window=5):  \n",
    "    data_array = array(data_array)  \n",
    "    new_list = []  \n",
    "    for i in range(len(data_array)):  \n",
    "        indices = range(max(i - window + 1, 0),  \n",
    "                        min(i + window + 1, len(data_array)))  \n",
    "        avg = 0  \n",
    "        for j in indices:  \n",
    "            avg += data_array[j]  \n",
    "        avg /= float(len(indices))  \n",
    "        new_list.append(avg)  \n",
    "          \n",
    "    return array(new_list)  \n",
    "  \n",
    "# Due to an agreement with the ChessGames.com admin, I cannot make the data  \n",
    "# for this plot publicly available. This function reads in and parses the  \n",
    "# chess data set into a tabulated pandas DataFrame.  \n",
    "chess_data = read_chess_data()\n",
    "  \n",
    "# These variables are where we put the years (x-axis), means (y-axis), and error bar values.  \n",
    "# We could just as easily replace the means with medians,  \n",
    "# and standard errors (SEMs) with standard deviations (STDs).  \n",
    "years = chess_data.groupby(\"Year\").PlyCount.mean().keys()  \n",
    "mean_PlyCount = sliding_mean(chess_data.groupby(\"Year\").PlyCount.mean().values,  \n",
    "                             window=10)  \n",
    "sem_PlyCount = sliding_mean(chess_data.groupby(\"Year\").PlyCount.apply(sem).mul(1.96).values,  \n",
    "                            window=10)  \n",
    "  \n",
    "# You typically want your plot to be ~1.33x wider than tall.  \n",
    "# Common sizes: (10, 7.5) and (12, 9)  \n",
    "plt.figure(figsize=(12, 9))  \n",
    "  \n",
    "# Remove the plot frame lines. They are unnecessary chartjunk.  \n",
    "ax = plt.subplot(111)  \n",
    "ax.spines[\"top\"].set_visible(False)  \n",
    "ax.spines[\"right\"].set_visible(False)  \n",
    "  \n",
    "# Ensure that the axis ticks only show up on the bottom and left of the plot.  \n",
    "# Ticks on the right and top of the plot are generally unnecessary chartjunk.  \n",
    "ax.get_xaxis().tick_bottom()  \n",
    "ax.get_yaxis().tick_left()  \n",
    "  \n",
    "# Limit the range of the plot to only where the data is.  \n",
    "# Avoid unnecessary whitespace.  \n",
    "plt.ylim(63, 85)  \n",
    "  \n",
    "# Make sure your axis ticks are large enough to be easily read.  \n",
    "# You don't want your viewers squinting to read your plot.  \n",
    "plt.xticks(range(1850, 2011, 20), fontsize=14)  \n",
    "plt.yticks(range(65, 86, 5), fontsize=14)  \n",
    "  \n",
    "# Along the same vein, make sure your axis labels are large  \n",
    "# enough to be easily read as well. Make them slightly larger  \n",
    "# than your axis tick labels so they stand out.  \n",
    "plt.ylabel(\"Ply per Game\", fontsize=16)  \n",
    "  \n",
    "# Use matplotlib's fill_between() call to create error bars.  \n",
    "# Use the dark blue \"#3F5D7D\" as a nice fill color.  \n",
    "plt.fill_between(years, mean_PlyCount - sem_PlyCount,  \n",
    "                 mean_PlyCount + sem_PlyCount, color=\"#3F5D7D\")  \n",
    "  \n",
    "# Plot the means as a white line in between the error bars.   \n",
    "# White stands out best against the dark blue.  \n",
    "plt.plot(years, mean_PlyCount, color=\"white\", lw=2)\n",
    "  \n",
    "# Make the title big enough so it spans the entire plot, but don't make it  \n",
    "# so big that it requires two lines to show.  \n",
    "plt.title(\"Chess games are getting longer\", fontsize=22)\n",
    "  \n",
    "# Always include your data source(s) and copyright notice! And for your  \n",
    "# data sources, tell your viewers exactly where the data came from,  \n",
    "# preferably with a direct link to the data. Just telling your viewers  \n",
    "# that you used data from the \"U.S. Census Bureau\" is completely useless:  \n",
    "# the U.S. Census Bureau provides all kinds of data, so how are your  \n",
    "# viewers supposed to know which data set you used?  \n",
    "plt.xlabel(\"\\nData source: www.ChessGames.com | \"  \n",
    "           \"Author: Randy Olson (randalolson.com / @randal_olson)\", fontsize=10)\n",
    "\n",
    "# Finally, save the figure as a PNG.  \n",
    "# You can also save it as a PDF, JPEG, etc.  \n",
    "# Just change the file extension in this call.  \n",
    "# bbox_inches=\"tight\" removes all the extra whitespace on the edges of your plot.  \n",
    "plt.savefig(\"chess-number-ply-over-time.png\", bbox_inches=\"tight\")"
   ]
  },
  {
   "cell_type": "code",
   "execution_count": 4,
   "metadata": {},
   "outputs": [
    {
     "name": "stdout",
     "output_type": "stream",
     "text": [
      "    reward states     step\n0     0.00    4\\n   255451\n1     0.00    6\\n   509098\n2     0.00    6\\n   759123\n3     0.00    6\\n  1001760\n4     0.00    6\\n  1259450\n5     0.00    6\\n  1500343\n6     0.00    6\\n  1751858\n7     0.00    6\\n  2000037\n8     0.00    6\\n  2250062\n9     0.00    6\\n  2501554\n10    0.00    6\\n  2750794\n11    0.00    6\\n  3000819\n12    0.00    6\\n  3250844\n13    0.00    6\\n  3502986\n14    0.00    6\\n  3755919\n15    0.00    6\\n  4000122\n16    0.00    6\\n  4257860\n17    0.00    6\\n  3755919\n18    0.00    6\\n  4000122\n19    0.00    6\\n  4257860\n20    0.00    6\\n  3755919\n21    0.00    6\\n  4000122\n22    0.00    6\\n  4257860\n23    0.00    6\\n  3755919\n24    0.00    6\\n  4000122\n25    0.00    6\\n  4257860\n26    0.00    6\\n  3755919\n27    0.00    6\\n  4000122\n28    0.00    6\\n  4257860\n29    0.00    6\\n  3755919\n..     ...    ...      ...\n170   1.00    6\\n  4000122\n171   1.00    6\\n  4257860\n172   1.00    6\\n  3755919\n173   1.00    6\\n  4000122\n174   1.00    6\\n  4257860\n175   1.00    6\\n  4000122\n176   1.00    6\\n  4257860\n177   1.00    6\\n  3755919\n178   1.00    6\\n  4000122\n179   1.00    6\\n  4257860\n180   1.00    6\\n  4000122\n181   1.00    6\\n  4257860\n182   1.00    6\\n  3755919\n183   1.00    6\\n  4000122\n184   1.00    6\\n  4257860\n185   1.00    6\\n  4000122\n186   1.00    6\\n  4257860\n187   1.00    6\\n  3755919\n188   1.00    6\\n  4000122\n189   1.00    6\\n  4257860\n190   1.00    6\\n  4000122\n191   1.00    6\\n  4257860\n192   1.00    6\\n  3755919\n193   1.00    6\\n  4000122\n194   1.00    6\\n  4257860\n195   1.00    6\\n  4000122\n196   1.00    6\\n  4257860\n197   1.00    6\\n  3755919\n198   1.00    6\\n  4000122\n199   1.00      6  4257860\n\n[200 rows x 3 columns]\n"
     ]
    }
   ],
   "source": [
    "from plots import parse_results\n",
    "\n",
    "print parse_results.parse_results_file('./plots/data/hadooqn_toy_mr_sectors_fake.txt')"
   ]
  },
  {
   "cell_type": "code",
   "execution_count": 4,
   "metadata": {},
   "outputs": [],
   "source": [
    "from plots import plot_data\n",
    "from plots import parse_results\n",
    "import numpy as np\n",
    "\n",
    "data_1 = parse_results.parse_results_file('./plots/data/hadooqn_toy_mr_sectors_fake.txt')['reward'].values.astype(np.float)\n",
    "data_2 = parse_results.parse_results_file('./plots/data/cts_toy_mr_fake.txt')['reward'].values.astype(np.float)\n",
    "data_3 = parse_results.parse_results_file('./plots/data/double_dqn_toy_mr_fake.txt')['reward'].values.astype(np.float)\n",
    "\n",
    "labels = ['Hadooqn', 'Intrinsic', 'Double DQN']\n",
    "\n",
    "plot_data.plot_data(range(0, 200), [data_1, data_2, data_3], 'Reward', 'Average Test Reward', 'Millions of Frames', labels=labels, ylim=[-.1, 1.1], yticks=[0, 1], save_file='./plots/figures/toy_mr_reward.png')"
   ]
  },
  {
   "cell_type": "code",
   "execution_count": 3,
   "metadata": {},
   "outputs": [
    {
     "name": "stdout",
     "output_type": "stream",
     "text": [
      "['0.00' '0.00' '0.00' '0.00' '0.00' '0.00' '0.00' '0.00' '0.00' '0.00'\n '0.00' '0.00' '0.00' '0.00' '0.00' '0.00' '0.00' '0.00' '0.00' '0.00'\n '0.00' '0.00' '0.00' '0.00' '0.00' '0.00' '0.00' '0.00' '0.00' '0.00'\n '0.00' '0.00' '0.00' '0.00' '0.00' '0.00' '0.00' '0.00' '0.00' '0.00'\n '0.00' '0.00' '0.00' '0.00' '0.00' '0.00' '0.00' '0.00' '0.00' '0.00'\n '0.00' '0.00' '0.00' '0.00' '0.00' '0.00' '0.00' '0.00' '0.00' '0.00'\n '0.00' '0.00' '0.00' '0.00' '0.00' '0.00' '0.00' '0.00' '0.00' '0.00'\n '0.00' '0.00' '0.00' '0.00' '0.00' '0.00' '0.00' '0.00' '0.00' '0.00'\n '0.00' '0.00' '0.00' '1.00' '1.00' '0.00' '0.00' '1.00' '1.00' '0.00'\n '1.00' '1.00' '1.00' '1.00' '1.00' '1.00' '1.00' '1.00' '1.00' '1.00'\n '1.00' '1.00' '1.00' '1.00' '1.00' '1.00' '1.00' '1.00' '1.00' '1.00'\n '1.00' '1.00' '1.00' '1.00' '1.00' '1.00' '1.00' '1.00' '1.00' '1.00'\n '1.00' '1.00' '1.00' '1.00' '1.00' '1.00' '1.00' '1.00' '1.00' '1.00'\n '1.00' '1.00' '1.00' '1.00' '1.00' '1.00' '1.00' '1.00' '1.00' '1.00'\n '1.00' '1.00' '1.00' '1.00' '1.00' '1.00' '1.00' '1.00' '1.00' '1.00'\n '1.00' '1.00' '1.00' '1.00' '1.00' '1.00' '1.00' '1.00' '1.00' '1.00'\n '1.00' '1.00' '1.00' '1.00' '1.00' '1.00' '1.00' '1.00' '1.00' '1.00'\n '1.00' '1.00' '1.00' '1.00' '1.00' '1.00' '1.00' '1.00' '1.00' '1.00'\n '1.00' '1.00' '1.00' '1.00' '1.00' '1.00' '1.00' '1.00' '1.00' '1.00'\n '1.00' '1.00' '1.00' '1.00' '1.00' '1.00' '1.00' '1.00' '1.00' '1.00']\n"
     ]
    },
    {
     "ename": "NameError",
     "evalue": "name 'plt' is not defined",
     "traceback": [
      "\u001b[0;31m\u001b[0m",
      "\u001b[0;31mNameError\u001b[0mTraceback (most recent call last)",
      "\u001b[0;32m<ipython-input-3-d5661759c658>\u001b[0m in \u001b[0;36m<module>\u001b[0;34m()\u001b[0m\n\u001b[1;32m      3\u001b[0m \u001b[0;32mprint\u001b[0m \u001b[0mdata\u001b[0m\u001b[0;34m[\u001b[0m\u001b[0;34m'reward'\u001b[0m\u001b[0;34m]\u001b[0m\u001b[0;34m.\u001b[0m\u001b[0mvalues\u001b[0m\u001b[0;34m\u001b[0m\u001b[0m\n\u001b[1;32m      4\u001b[0m \u001b[0;34m\u001b[0m\u001b[0m\n\u001b[0;32m----> 5\u001b[0;31m \u001b[0mplt\u001b[0m\u001b[0;34m.\u001b[0m\u001b[0mplot\u001b[0m\u001b[0;34m(\u001b[0m\u001b[0mdata\u001b[0m\u001b[0;34m[\u001b[0m\u001b[0;34m'reward'\u001b[0m\u001b[0;34m]\u001b[0m\u001b[0;34m.\u001b[0m\u001b[0mkeys\u001b[0m\u001b[0;34m(\u001b[0m\u001b[0;34m)\u001b[0m\u001b[0;34m,\u001b[0m \u001b[0mdata\u001b[0m\u001b[0;34m[\u001b[0m\u001b[0;34m'reward'\u001b[0m\u001b[0;34m]\u001b[0m\u001b[0;34m.\u001b[0m\u001b[0mvalues\u001b[0m\u001b[0;34m.\u001b[0m\u001b[0mastype\u001b[0m\u001b[0;34m(\u001b[0m\u001b[0mnp\u001b[0m\u001b[0;34m.\u001b[0m\u001b[0mfloat\u001b[0m\u001b[0;34m)\u001b[0m\u001b[0;34m,\u001b[0m \u001b[0mcolor\u001b[0m\u001b[0;34m=\u001b[0m\u001b[0;34m'#3F5D7D'\u001b[0m\u001b[0;34m,\u001b[0m \u001b[0mlw\u001b[0m\u001b[0;34m=\u001b[0m\u001b[0;36m2\u001b[0m\u001b[0;34m)\u001b[0m\u001b[0;34m\u001b[0m\u001b[0m\n\u001b[0m",
      "\u001b[0;31mNameError\u001b[0m: name 'plt' is not defined"
     ],
     "output_type": "error"
    }
   ],
   "source": [
    "data = parse_results.parse_results_file('./plots/data/hadooqn_toy_mr_sectors_fake.txt')\n",
    "\n",
    "print data['reward'].values\n",
    "\n",
    "plt.plot(data['reward'].keys(), data['reward'].values.astype(np.float), color='#3F5D7D', lw=2)"
   ]
  },
  {
   "cell_type": "code",
   "execution_count": null,
   "metadata": {},
   "outputs": [],
   "source": [
    ""
   ]
  }
 ],
 "metadata": {
  "kernelspec": {
   "display_name": "Python 2",
   "language": "python",
   "name": "python2"
  },
  "language_info": {
   "codemirror_mode": {
    "name": "ipython",
    "version": 2.0
   },
   "file_extension": ".py",
   "mimetype": "text/x-python",
   "name": "python",
   "nbconvert_exporter": "python",
   "pygments_lexer": "ipython2",
   "version": "2.7.6"
  }
 },
 "nbformat": 4,
 "nbformat_minor": 0
}